{
 "cells": [
  {
   "cell_type": "code",
   "execution_count": 1,
   "metadata": {},
   "outputs": [],
   "source": [
    "import pandas as pd\n",
    "import numpy as np\n",
    "import tensorflow as tf\n",
    "import matplotlib.pyplot as plt"
   ]
  },
  {
   "cell_type": "code",
   "execution_count": 117,
   "metadata": {},
   "outputs": [],
   "source": [
    "(x_train, y_train), (x_test, y_test) = tf.keras.datasets.cifar10.load_data()\n"
   ]
  },
  {
   "cell_type": "code",
   "execution_count": 88,
   "metadata": {},
   "outputs": [
    {
     "name": "stdout",
     "output_type": "stream",
     "text": [
      "(50000, 32, 32, 3)\n",
      "(50000, 1)\n",
      "(10000, 32, 32, 3)\n",
      "(10000, 1)\n",
      "Number of samples of the class airplane: 5000\n",
      "Number of samples of the class automobile: 5000\n",
      "Number of samples of the class bird: 5000\n",
      "Number of samples of the class cat: 5000\n",
      "Number of samples of the class deer: 5000\n",
      "Number of samples of the class dog: 5000\n",
      "Number of samples of the class frog: 5000\n",
      "Number of samples of the class horse: 5000\n",
      "Number of samples of the class ship: 5000\n",
      "Number of samples of the class truck: 5000\n",
      "The dataset is completely balanced\n"
     ]
    }
   ],
   "source": [
    "print(x_train.shape)\n",
    "print(y_train.shape)\n",
    "print(x_test.shape)\n",
    "print(y_test.shape)\n",
    "\n",
    "# Get number of instances for each class\n",
    "\n",
    "airplane_count = 0\n",
    "automobile_count = 0\n",
    "bird_count = 0\n",
    "cat_count = 0\n",
    "deer_count = 0\n",
    "dog_count = 0\n",
    "frog_count = 0\n",
    "horse_count = 0\n",
    "ship_count = 0\n",
    "truck_count = 0\n",
    "\n",
    "for sample in y_train:\n",
    "    if sample == 0:\n",
    "        airplane_count += 1\n",
    "    elif sample == 1:\n",
    "        automobile_count += 1\n",
    "    elif sample == 2:\n",
    "        bird_count += 1\n",
    "    elif sample == 3:\n",
    "        cat_count += 1\n",
    "    elif sample == 4:\n",
    "        deer_count += 1\n",
    "    elif sample == 5:\n",
    "        dog_count += 1\n",
    "    elif sample == 6:\n",
    "        frog_count += 1\n",
    "    elif sample == 7:\n",
    "        horse_count += 1\n",
    "    elif sample == 8:\n",
    "        ship_count += 1\n",
    "    elif sample == 9:\n",
    "        truck_count += 1\n",
    "        \n",
    "print(f'Number of samples of the class airplane: {airplane_count}')\n",
    "print(f'Number of samples of the class automobile: {automobile_count}')\n",
    "print(f'Number of samples of the class bird: {bird_count}')\n",
    "print(f'Number of samples of the class cat: {cat_count}')\n",
    "print(f'Number of samples of the class deer: {deer_count}')\n",
    "print(f'Number of samples of the class dog: {dog_count}')\n",
    "print(f'Number of samples of the class frog: {frog_count}')\n",
    "print(f'Number of samples of the class horse: {horse_count}')\n",
    "print(f'Number of samples of the class ship: {ship_count}')\n",
    "print(f'Number of samples of the class truck: {truck_count}')\n",
    "\n",
    "print('The dataset is completely balanced')\n"
   ]
  },
  {
   "cell_type": "code",
   "execution_count": 118,
   "metadata": {},
   "outputs": [
    {
     "name": "stdout",
     "output_type": "stream",
     "text": [
      "\n",
      "Unique labels before processing\n",
      "[0 1 2 3 5 6 8 9]\n",
      "[0 1 2 3 5 6 8 9]\n",
      "\n",
      "Unique labels after processing\n",
      "[0 1 2 3 4 5 6 7]\n",
      "[0 1 2 3 4 5 6 7]\n",
      "Number of samples of the class airplane: 5000\n",
      "Number of samples of the class automobile: 5000\n",
      "Number of samples of the class bird: 5000\n",
      "Number of samples of the class cat: 5000\n",
      "Number of samples of the class dog: 5000\n",
      "Number of samples of the class frog: 5000\n",
      "Number of samples of the class ship: 5000\n",
      "Number of samples of the class truck: 5000\n",
      "(40000, 32, 32, 3)\n",
      "(40000, 8)\n",
      "(40000, 2)\n",
      "(8000, 32, 32, 3)\n",
      "(8000, 8)\n",
      "(8000, 2)\n"
     ]
    }
   ],
   "source": [
    "import tensorflow as tf\n",
    "from tensorflow.keras.utils import to_categorical\n",
    "import keras.datasets.fashion_mnist as fashion_mnist\n",
    "\n",
    "def preprocess_data_cifar10(x_train, y_train_1, x_test, y_test_1):\n",
    "    \n",
    "    new_x_train = list()\n",
    "    new_y_train = list()\n",
    "    new_x_test = list()\n",
    "    new_y_test = list()\n",
    "    airplane_count, automobile_count, bird_count, cat_count, deer_count, dog_count, frog_count, horse_count, ship_count, truck_count = 0, 0, 0, 0, 0, 0, 0, 0, 0, 0\n",
    "    \n",
    "    \n",
    "    # First, samples of two classes of animals are erased from data. This is done because the second task to \n",
    "    # be performed is classifying between animals and vehicles. This way, the dataset will be balanced for both tasks\n",
    "    for train_sample, label in zip(x_train, y_train_1):\n",
    "        if label not in [4, 7]:\n",
    "            new_x_train.append(train_sample)\n",
    "            new_y_train.append(label)\n",
    "            \n",
    "    for test_sample, test_label in zip(x_test, y_test_1):\n",
    "        if test_label not in [4, 7]:\n",
    "            new_x_test.append(test_sample)\n",
    "            new_y_test.append(test_label)\n",
    "            \n",
    "    x_train = np.array(new_x_train)\n",
    "    x_test = np.array(new_x_test)\n",
    "    y_train_1 = np.array(new_y_train)\n",
    "    y_test_1 = np.array(new_y_test)\n",
    "    \n",
    "    print('\\nUnique labels before processing')\n",
    "    print(np.unique(y_train_1))\n",
    "    print(np.unique(y_test_1))\n",
    "    \n",
    "    # Make all labels go from 0 to 7 (right now the unqieu values of y are [0 1 2 3 5 6 8 9], but we want [0 1 2 3 4 5 6 7])\n",
    "    new_y_train_1 = list()\n",
    "    for train_label in y_train_1:\n",
    "        if train_label == 5:\n",
    "            new_y_train_1.append(4)\n",
    "        elif train_label == 6:\n",
    "            new_y_train_1.append(5)\n",
    "        elif train_label == 8:\n",
    "            new_y_train_1.append(6)\n",
    "        elif train_label == 9:\n",
    "            new_y_train_1.append(7)\n",
    "        else:\n",
    "            new_y_train_1.append(int(train_label))\n",
    "            \n",
    "    new_y_test_1 = list()\n",
    "    for test_label in y_test_1:\n",
    "        if test_label == 5:\n",
    "            new_y_test_1.append(4)\n",
    "        elif test_label == 6:\n",
    "            new_y_test_1.append(5)\n",
    "        elif test_label == 8:\n",
    "            new_y_test_1.append(6)\n",
    "        elif test_label == 9:\n",
    "            new_y_test_1.append(7)\n",
    "        else:\n",
    "            new_y_test_1.append(int(test_label))\n",
    "    \n",
    "    y_train_1 = np.array(new_y_train_1)\n",
    "    y_test_1 = np.array(new_y_test_1)\n",
    "            \n",
    "    print('\\nUnique labels after processing')\n",
    "    print(np.unique(y_train_1))\n",
    "    print(np.unique(y_test_1))\n",
    "    \n",
    "    n_class_1 = 8\n",
    "    \n",
    "    # 0 = animal, 1 = vehicle\n",
    "    y_train_2 = [0 if y in [2, 3, 4, 5] else 1 for y in y_train_1]\n",
    "    y_test_2 = [0 if y in [2, 3, 4, 5] else 1 for y in y_test_1]\n",
    "    \n",
    "    n_class_2 = 2\n",
    "    \n",
    "    for label in y_train_1:\n",
    "        if label == 0:\n",
    "            airplane_count += 1\n",
    "        elif label == 1:\n",
    "            automobile_count += 1\n",
    "        elif label == 2:\n",
    "            bird_count += 1\n",
    "        elif label == 3:\n",
    "            cat_count += 1\n",
    "        elif label == 4:\n",
    "            dog_count += 1\n",
    "        elif label == 5:\n",
    "            frog_count += 1\n",
    "        elif label == 6:\n",
    "            ship_count += 1\n",
    "        elif label == 7:\n",
    "            truck_count += 1\n",
    "        \n",
    "    print(f'Number of samples of the class airplane: {airplane_count}')\n",
    "    print(f'Number of samples of the class automobile: {automobile_count}')\n",
    "    print(f'Number of samples of the class bird: {bird_count}')\n",
    "    print(f'Number of samples of the class cat: {cat_count}')\n",
    "    print(f'Number of samples of the class dog: {dog_count}')\n",
    "    print(f'Number of samples of the class frog: {frog_count}')\n",
    "    print(f'Number of samples of the class ship: {ship_count}')\n",
    "    print(f'Number of samples of the class truck: {truck_count}')\n",
    "    \n",
    "    y_train_1 = to_categorical(y_train_1, n_class_1)\n",
    "    y_test_1 = to_categorical(y_test_1, n_class_1)\n",
    "    y_train_2 = to_categorical(y_train_2, n_class_2)\n",
    "    y_test_2 = to_categorical(y_test_2, n_class_2)\n",
    "    \n",
    "    return x_train, y_train_1, y_train_2, x_test, y_test_1, y_test_2\n",
    "\n",
    "x_train, y_train_1, y_train_2, x_test, y_test_1, y_test_2 = preprocess_data_cifar10(x_train, y_train, x_test, y_test)\n",
    "\n",
    "print(x_train.shape)\n",
    "print(y_train_1.shape)\n",
    "print(y_train_2.shape)\n",
    "print(x_test.shape)\n",
    "print(y_test_1.shape)\n",
    "print(y_test_2.shape)"
   ]
  },
  {
   "cell_type": "markdown",
   "metadata": {},
   "source": [
    "#### Classes 'Deer' and 'Horse' have been successfully deleted from the dataset, while still keeping it balanced"
   ]
  },
  {
   "cell_type": "code",
   "execution_count": null,
   "metadata": {},
   "outputs": [],
   "source": [
    "train_data = pd.read_csv('fashion-mnist_train.csv')\n",
    "test_data = pd.read_csv('fashion-mnist_test.csv')\n",
    "\n",
    "y_train = train_data['label']\n",
    "x_train = train_data.drop('label', axis=1)\n",
    "y_test = test_data['label']\n",
    "x_test = test_data.drop('label', axis=1)\n",
    "\n",
    "print(x_train.shape)\n",
    "print(y_train.shape)\n",
    "print(x_test.shape)\n",
    "print(y_test.shape)"
   ]
  },
  {
   "cell_type": "code",
   "execution_count": null,
   "metadata": {},
   "outputs": [],
   "source": [
    "# Get data as numpy arrays and reshape it\n",
    "x_train = x_train.to_numpy()\n",
    "y_train = y_train.to_numpy()\n",
    "x_test = x_test.to_numpy()\n",
    "y_test = y_test.to_numpy()\n",
    "\n",
    "x_train = np.reshape(x_train, (60000, 28, 28))\n",
    "x_test = np.reshape(x_test, (10000, 28, 28))\n",
    "\n",
    "print(x_train.shape)\n",
    "print(y_train.shape)\n",
    "print(x_test.shape)\n",
    "print(y_test.shape)"
   ]
  },
  {
   "cell_type": "code",
   "execution_count": null,
   "metadata": {},
   "outputs": [],
   "source": [
    "import tensorflow as tf\n",
    "from tensorflow.keras.utils import to_categorical\n",
    "import keras.datasets.fashion_mnist as fashion_mnist\n",
    "\n",
    "def preprocess_data_fashion_mnist(x_train, y_train_1, x_test, y_test_1):\n",
    "    \n",
    "    n_class_1 = 10\n",
    "    \n",
    "    y_train_2 = list(0 if y in [5, 7, 9] else 1 if y in [3, 6, 8] else 2 for y in y_train_1)\n",
    "    y_test_2 = list(0 if y in [5, 7, 9] else 1 if y in [3, 6, 8] else 2 for y in y_test_1)\n",
    "    \n",
    "    n_class_2 = 3\n",
    "    \n",
    "    x_train = np.expand_dims(x_train, axis=3)\n",
    "    x_test = np.expand_dims(x_test, axis=3)\n",
    "    y_train_1 = to_categorical(y_train_1, n_class_1)\n",
    "    y_test_1 = to_categorical(y_test_1, n_class_1)\n",
    "    y_train_2 = to_categorical(y_train_2, n_class_2)\n",
    "    y_test_2 = to_categorical(y_test_2, n_class_2)\n",
    "    \n",
    "    return x_train, y_train_1, y_train_2, x_test, y_test_1, y_test_2\n",
    "\n",
    "x_train, y_train_1, y_train_2, x_test, y_test_1, y_test_2 = preprocess_data_fashion_mnist(x_train, y_train, x_test, y_test)\n",
    "\n",
    "print(x_train.shape)\n",
    "print(y_train_1.shape)\n",
    "print(y_train_2.shape)\n",
    "print(x_test.shape)\n",
    "print(y_test_1.shape)\n",
    "print(y_test_2.shape)"
   ]
  },
  {
   "cell_type": "code",
   "execution_count": 119,
   "metadata": {},
   "outputs": [],
   "source": [
    "# Build model\n",
    "\n",
    "def generate_model(gamma):\n",
    "\n",
    "    inputs = tf.keras.layers.Input(shape=(32, 32, 3), name='input')\n",
    "\n",
    "    main_branch = tf.keras.layers.Conv2D(filters=32, kernel_size=(3, 3), strides=1)(inputs)\n",
    "    main_branch = tf.keras.layers.MaxPooling2D(pool_size=(2, 2), strides=2)(main_branch)\n",
    "    main_branch = tf.keras.layers.Conv2D(filters=64, kernel_size=(3, 3), strides=1)(main_branch)\n",
    "    main_branch = tf.keras.layers.MaxPooling2D(pool_size=(2, 2), strides=2)(main_branch)\n",
    "    main_branch = tf.keras.layers.Conv2D(filters=128, kernel_size=(3, 3), strides=1)(main_branch)\n",
    "    main_branch = tf.keras.layers.Flatten()(main_branch)\n",
    "    main_branch = tf.keras.layers.Dense(3136, activation='relu')(main_branch)\n",
    "\n",
    "    task_1_branch = tf.keras.layers.Dense(1024, activation='relu')(main_branch)\n",
    "    task_1_branch = tf.keras.layers.Dense(100, activation='relu')(task_1_branch)\n",
    "    task_1_branch = tf.keras.layers.Dense(8, activation='softmax', name='task_1_output')(task_1_branch)\n",
    "\n",
    "\n",
    "    task_2_branch = tf.keras.layers.Dense(1024, activation='relu')(main_branch)\n",
    "    task_2_branch = tf.keras.layers.Dense(100, activation='relu')(task_2_branch)\n",
    "    task_2_branch = tf.keras.layers.Dense(2, activation='sigmoid', name='task_2_output')(task_2_branch)\n",
    "\n",
    "    model = tf.keras.Model(inputs = inputs, outputs = [task_1_branch, task_2_branch])\n",
    "\n",
    "    model.compile(optimizer='adam',\n",
    "                  loss={'task_1_output': 'categorical_crossentropy', 'task_2_output': 'categorical_crossentropy'},\n",
    "                  loss_weights={'task_1_output': gamma, 'task_2_output': 1 - gamma}, metrics=['accuracy'])\n",
    "    \n",
    "    return model\n"
   ]
  },
  {
   "cell_type": "code",
   "execution_count": 120,
   "metadata": {},
   "outputs": [],
   "source": [
    "import time\n",
    "\n",
    "def fit_batch(gamma_values):\n",
    "    \n",
    "    history = list()\n",
    "    trained_models = list()\n",
    "    \n",
    "    for gamma in gamma_values:\n",
    "        \n",
    "        print('Training model for gamma equal to ', gamma)\n",
    "        model = generate_model(gamma)\n",
    "        start = time.time()\n",
    "        model_history = model.fit({'input': x_train},\n",
    "                            {'task_1_output': y_train_1, 'task_2_output': y_train_2},\n",
    "                            epochs=10, batch_size=128, verbose=0)\n",
    "        print(f'Training time: {time.time() - start}')\n",
    "        history.append(model_history)\n",
    "        trained_models.append(model)\n",
    "        \n",
    "    return history, trained_models\n",
    "        "
   ]
  },
  {
   "cell_type": "code",
   "execution_count": 121,
   "metadata": {},
   "outputs": [
    {
     "name": "stdout",
     "output_type": "stream",
     "text": [
      "Training model for gamma equal to  0.0\n",
      "Training time: 298.46324396133423\n",
      "Training model for gamma equal to  0.25\n",
      "Training time: 284.2997610569\n",
      "Training model for gamma equal to  0.5\n",
      "Training time: 277.9187562465668\n",
      "Training model for gamma equal to  0.75\n",
      "Training time: 279.8697454929352\n",
      "Training model for gamma equal to  1.0\n",
      "Training time: 276.4491112232208\n"
     ]
    }
   ],
   "source": [
    "gammas = [0., 0.25, 0.5, 0.75, 1.]\n",
    "training_history, trained_models = fit_batch(gammas)"
   ]
  },
  {
   "cell_type": "code",
   "execution_count": 122,
   "metadata": {},
   "outputs": [
    {
     "name": "stdout",
     "output_type": "stream",
     "text": [
      "\n",
      "Plotting Accuracy vs Epochs for each value of gamma\n",
      "\n",
      "High values of gamma means that the model weights more the loss of Task 1, whereas low values mean that it weights more the loss of Task 2\n",
      "\n",
      "Plotting Accuracy vs Epochs for value of gamma number 0.0\n",
      "\n"
     ]
    },
    {
     "data": {
      "image/png": "[encoded data removed]",
      "text/plain": [
       "<Figure size 432x288 with 1 Axes>"
      ]
     },
     "metadata": {
      "needs_background": "light"
     },
     "output_type": "display_data"
    },
    {
     "name": "stdout",
     "output_type": "stream",
     "text": [
      "\n",
      "Plotting Accuracy vs Epochs for value of gamma number 0.25\n",
      "\n"
     ]
    },
    {
     "data": {
      "image/png": "[encoded data removed]",
      "text/plain": [
       "<Figure size 432x288 with 1 Axes>"
      ]
     },
     "metadata": {
      "needs_background": "light"
     },
     "output_type": "display_data"
    },
    {
     "name": "stdout",
     "output_type": "stream",
     "text": [
      "\n",
      "Plotting Accuracy vs Epochs for value of gamma number 0.5\n",
      "\n"
     ]
    },
    {
     "data": {
      "image/png": "[encoded data removed]",
      "text/plain": [
       "<Figure size 432x288 with 1 Axes>"
      ]
     },
     "metadata": {
      "needs_background": "light"
     },
     "output_type": "display_data"
    },
    {
     "name": "stdout",
     "output_type": "stream",
     "text": [
      "\n",
      "Plotting Accuracy vs Epochs for value of gamma number 0.75\n",
      "\n"
     ]
    },
    {
     "data": {
      "image/png": "[encoded data removed]",
      "text/plain": [
       "<Figure size 432x288 with 1 Axes>"
      ]
     },
     "metadata": {
      "needs_background": "light"
     },
     "output_type": "display_data"
    },
    {
     "name": "stdout",
     "output_type": "stream",
     "text": [
      "\n",
      "Plotting Accuracy vs Epochs for value of gamma number 1.0\n",
      "\n"
     ]
    },
    {
     "data": {
      "image/png": "[encoded data removed]",
      "text/plain": [
       "<Figure size 432x288 with 1 Axes>"
      ]
     },
     "metadata": {
      "needs_background": "light"
     },
     "output_type": "display_data"
    }
   ],
   "source": [
    "import matplotlib.pyplot as plt\n",
    "\n",
    "print('\\nPlotting Accuracy vs Epochs for each value of gamma\\n')\n",
    "print('High values of gamma means that the model weights more the loss of Task 1, '\n",
    "      'whereas low values mean that it weights more the loss of Task 2')\n",
    "counter = 0\n",
    "\n",
    "for history in training_history:\n",
    "    \n",
    "    print(f'\\nPlotting Accuracy vs Epochs for value of gamma number {gammas[counter]}\\n')\n",
    "    plt.plot(range(len(history.history['task_1_output_accuracy'])), history.history['task_1_output_accuracy'], c='r', label='Task 1')\n",
    "    plt.plot(range(len(history.history['task_2_output_accuracy'])), history.history['task_2_output_accuracy'], c='b', label='Task 2')\n",
    "    plt.xlabel('Epochs')\n",
    "    plt.ylabel('Accuracy')\n",
    "    plt.legend()\n",
    "    plt.show()\n",
    "    counter += 1\n",
    "    "
   ]
  },
  {
   "cell_type": "code",
   "execution_count": 123,
   "metadata": {},
   "outputs": [
    {
     "name": "stdout",
     "output_type": "stream",
     "text": [
      "(1, 32, 32, 3)\n"
     ]
    },
    {
     "data": {
      "image/png": "[encoded data removed]",
      "text/plain": [
       "<Figure size 432x288 with 1 Axes>"
      ]
     },
     "metadata": {
      "needs_background": "light"
     },
     "output_type": "display_data"
    }
   ],
   "source": [
    "import random\n",
    "\n",
    "# Pick random image of test data, which will be used to evaluate each task\n",
    "random_ind = random.randrange(0, x_test.shape[0], 1)\n",
    "image = x_test[random_ind,:,:,:]\n",
    "plt.imshow(image)\n",
    "\n",
    "image = np.expand_dims(image, axis=0)\n",
    "print(image.shape)\n"
   ]
  },
  {
   "cell_type": "code",
   "execution_count": 124,
   "metadata": {},
   "outputs": [
    {
     "data": {
      "text/plain": [
       "[array([[1.3812565e-13, 9.9953687e-01, 1.7757532e-15, 5.1700832e-16,\n",
       "         6.9439042e-12, 6.4857941e-18, 3.9787417e-13, 4.6309351e-04]],\n",
       "       dtype=float32), array([[1.6622039e-15, 2.6085347e-02]], dtype=float32)]"
      ]
     },
     "execution_count": 124,
     "metadata": {},
     "output_type": "execute_result"
    }
   ],
   "source": [
    "# Get prediction for both tasks, and compare them to the real classes \n",
    "# (predictions will be done on the model trained with gamma=0.5)\n",
    "\n",
    "trained_model = trained_models[2]\n",
    "trained_model.predict(image)"
   ]
  },
  {
   "cell_type": "markdown",
   "metadata": {},
   "source": [
    "### Test the model for several images"
   ]
  },
  {
   "cell_type": "code",
   "execution_count": 133,
   "metadata": {},
   "outputs": [],
   "source": [
    "def test_image(x_test):\n",
    "        \n",
    "        # Pick random image of test data, which will be used to evaluate each task\n",
    "        random.seed(time.clock())\n",
    "        random_ind = int(random.random() * x_test.shape[0])\n",
    "        print(random_ind)\n",
    "        image = x_test[random_ind,:,:,:]\n",
    "        plt.imshow(image)\n",
    "\n",
    "        image = np.expand_dims(image, axis=0)\n",
    "        print(image.shape)\n",
    "\n",
    "        trained_model = trained_models[2]\n",
    "        print(trained_model.predict(image))"
   ]
  },
  {
   "cell_type": "code",
   "execution_count": 134,
   "metadata": {},
   "outputs": [
    {
     "name": "stdout",
     "output_type": "stream",
     "text": [
      "7154\n",
      "(1, 32, 32, 3)\n",
      "[array([[4.3099996e-10, 5.4984690e-07, 7.1168811e-06, 2.6220265e-03,\n",
      "        1.3945424e-05, 9.9735582e-01, 2.6573330e-08, 5.6633763e-07]],\n",
      "      dtype=float32), array([[6.2880659e-01, 3.6846664e-06]], dtype=float32)]\n"
     ]
    },
    {
     "name": "stderr",
     "output_type": "stream",
     "text": [
      "/snap/jupyter/6/lib/python3.7/site-packages/ipykernel_launcher.py:4: DeprecationWarning: time.clock has been deprecated in Python 3.3 and will be removed from Python 3.8: use time.perf_counter or time.process_time instead\n",
      "  after removing the cwd from sys.path.\n"
     ]
    },
    {
     "data": {
      "image/png": "[encoded data removed]",
      "text/plain": [
       "<Figure size 432x288 with 1 Axes>"
      ]
     },
     "metadata": {
      "needs_background": "light"
     },
     "output_type": "display_data"
    }
   ],
   "source": [
    "test_image(x_test)"
   ]
  },
  {
   "cell_type": "code",
   "execution_count": 138,
   "metadata": {},
   "outputs": [
    {
     "name": "stdout",
     "output_type": "stream",
     "text": [
      "250/250 [==============================] - 2s 9ms/step - loss: 0.9447 - task_1_output_loss: 1.5401 - task_2_output_loss: 0.3494 - task_1_output_accuracy: 0.6639 - task_2_output_accuracy: 0.9229\n"
     ]
    },
    {
     "data": {
      "text/plain": [
       "[0.9447342157363892,\n",
       " 1.5400625467300415,\n",
       " 0.34940674901008606,\n",
       " 0.6638749837875366,\n",
       " 0.9228749871253967]"
      ]
     },
     "execution_count": 138,
     "metadata": {},
     "output_type": "execute_result"
    }
   ],
   "source": [
    "trained_models[2].evaluate(x_test, {'task_1_output': y_test_1, 'task_2_output': y_test_2})"
   ]
  },
  {
   "cell_type": "markdown",
   "metadata": {},
   "source": [
    "### Evaluate the whole test dataset on the trained models"
   ]
  },
  {
   "cell_type": "code",
   "execution_count": 139,
   "metadata": {},
   "outputs": [
    {
     "name": "stdout",
     "output_type": "stream",
     "text": [
      "250/250 [==============================] - 2s 9ms/step - loss: 0.3390 - task_1_output_loss: 4.4572 - task_2_output_loss: 0.3390 - task_1_output_accuracy: 0.1270 - task_2_output_accuracy: 0.8989\n",
      "Evaluation for models trained with gamma=0.0.\n",
      "Task 1: 0.12700000405311584\n",
      "Task 2: 0.8988749980926514\n",
      "250/250 [==============================] - 2s 9ms/step - loss: 0.5475 - task_1_output_loss: 1.3754 - task_2_output_loss: 0.2715 - task_1_output_accuracy: 0.6423 - task_2_output_accuracy: 0.9220\n",
      "Evaluation for models trained with gamma=0.25.\n",
      "Task 1: 0.6422500014305115\n",
      "Task 2: 0.921999990940094\n",
      "250/250 [==============================] - 2s 9ms/step - loss: 0.9447 - task_1_output_loss: 1.5401 - task_2_output_loss: 0.3494 - task_1_output_accuracy: 0.6639 - task_2_output_accuracy: 0.9229\n",
      "Evaluation for models trained with gamma=0.5.\n",
      "Task 1: 0.6638749837875366\n",
      "Task 2: 0.9228749871253967\n",
      "250/250 [==============================] - 3s 9ms/step - loss: 1.0938 - task_1_output_loss: 1.3655 - task_2_output_loss: 0.2785 - task_1_output_accuracy: 0.6616 - task_2_output_accuracy: 0.9126\n",
      "Evaluation for models trained with gamma=0.75.\n",
      "Task 1: 0.6616250276565552\n",
      "Task 2: 0.9126250147819519\n",
      "250/250 [==============================] - 2s 9ms/step - loss: 1.4210 - task_1_output_loss: 1.4210 - task_2_output_loss: 1.7443 - task_1_output_accuracy: 0.6559 - task_2_output_accuracy: 0.4145\n",
      "Evaluation for models trained with gamma=1.0.\n",
      "Task 1: 0.655875027179718\n",
      "Task 2: 0.41449999809265137\n"
     ]
    }
   ],
   "source": [
    "for i, gamma in enumerate(gammas):\n",
    "    evaluation = trained_models[i].evaluate(x_test, \n",
    "                                            {'task_1_output': y_test_1, 'task_2_output': y_test_2})\n",
    "    print(f'Evaluation for models trained with gamma={gamma}.\\nTask 1: {evaluation[-2]}\\nTask 2: {evaluation[-1]}')"
   ]
  }
 ],
 "metadata": {
  "kernelspec": {
   "display_name": "Python 3",
   "language": "python",
   "name": "python3"
  },
  "language_info": {
   "codemirror_mode": {
    "name": "ipython",
    "version": 3
   },
   "file_extension": ".py",
   "mimetype": "text/x-python",
   "name": "python",
   "nbconvert_exporter": "python",
   "pygments_lexer": "ipython3",
   "version": "3.7.3"
  }
 },
 "nbformat": 4,
 "nbformat_minor": 2
}
